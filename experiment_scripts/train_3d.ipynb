{
 "cells": [
  {
   "cell_type": "code",
   "execution_count": 43,
   "id": "df9452a1",
   "metadata": {
    "tags": []
   },
   "outputs": [],
   "source": [
    "import numpy as np\n",
    "import matplotlib.pyplot as plt\n",
    "from scipy import ndimage\n",
    "import os\n",
    "import sys\n",
    "import sys\n",
    "from tqdm.notebook import tqdm\n",
    "import time\n",
    "import copy\n",
    "import argparse\n",
    "import trimesh\n",
    "import logging\n",
    "import math\n",
    "\n",
    "import torch\n",
    "import torchvision\n",
    "import torch.nn as nn\n",
    "import torch.optim.lr_scheduler as lr_scheduler\n",
    "\n",
    "sys.path.insert(0, os.path.abspath('..'))\n",
    "from incode_experiments import utils, volutils\n",
    "from incode_experiments import dataio\n",
    "from modules import INR"
   ]
  },
  {
   "cell_type": "markdown",
   "id": "a756db7e-f986-4daa-9183-d8ef64ede1b0",
   "metadata": {},
   "source": [
    "#### This notebook is based on the implementation from INCODE: https://github.com/xmindflow/INCODE/"
   ]
  },
  {
   "cell_type": "code",
   "execution_count": 44,
   "id": "e7de91a9",
   "metadata": {
    "tags": []
   },
   "outputs": [],
   "source": [
    "parser = argparse.ArgumentParser(description='LG_SIREN')\n",
    "\n",
    "# Shared Parameters\n",
    "parser.add_argument('--input',type=str, default='../data/preprocessed_lucy.npy', help='Input image path')\n",
    "parser.add_argument('--output',type=str, default='./output/', help='Output path')\n",
    "parser.add_argument('--inr_model', type=str, default='lg_siren', help='[siren, lg_siren, lc_siren]')\n",
    "parser.add_argument('--lr',type=float, default=1e-4, help='Learning rate')\n",
    "parser.add_argument('--using_schedular', type=bool, default=True, help='Whether to use schedular')\n",
    "parser.add_argument('--scheduler_b', type=float, default=0.2, help='Learning rate scheduler')\n",
    "parser.add_argument('--maxpoints', type=int, default=1e5, help='Batch size')\n",
    "parser.add_argument('--niters', type=int, default=20, help='Number if epochs')\n",
    "parser.add_argument('--steps_til_summary', type=int, default=1, help='Number of steps till summary visualization')\n",
    "parser.add_argument('--res', type=int, default=512, help='resolution (N^3) of the mesh, same for xyz')\n",
    "parser.add_argument('--mcubes_thres', type=float, default=0.5, help='Threshold for marching cubes')\n",
    "parser.add_argument('--downsample', type=int, nargs='+', default=(8, 8, 8), help='Partition factors for Local-Global SIREN')\n",
    "\n",
    "args = parser.parse_args(args=[])\n",
    "\n",
    "groups = np.prod(args.downsample) if 'lg' in args.inr_model or 'lc' in args.inr_model else 1\n",
    "args.downsample = tuple(args.downsample) if 'lg' in args.inr_model or 'lc' in args.inr_model else (1, 1, 1)\n",
    "\n",
    "device = torch.device(\"cuda\" if torch.cuda.is_available() else \"cpu\")"
   ]
  },
  {
   "cell_type": "markdown",
   "id": "c268067e",
   "metadata": {},
   "source": [
    "## Loading Data"
   ]
  },
  {
   "cell_type": "code",
   "execution_count": 45,
   "id": "c5d16c2f",
   "metadata": {
    "tags": []
   },
   "outputs": [],
   "source": [
    "## Loading .npy file from the pre-processing code\n",
    "data = np.load(args.input, allow_pickle=True)[()]\n",
    "\n",
    "### Loading input im with the shape of [res, res, res]\n",
    "scale = 1.0\n",
    "im = np.unpackbits(data['im']).reshape(args.res, args.res, args.res)[..., None].astype(np.float32)[...,0]\n",
    "im = ndimage.zoom(im/im.max(), [scale, scale, scale], order=0)\n",
    "\n",
    "hidx, widx, tidx = np.where(im > 0.9)\n",
    "H, W, T = im.shape\n",
    "\n",
    "### Loading gt_im with the shape of [128, 128, 128] to input into the task-specific model\n",
    "gt_im = np.unpackbits(data['gt_im']).reshape(128, 128, 128)[..., None].astype(np.float32)[...,0]\n",
    "gt_im = ndimage.zoom(gt_im/gt_im.max(), [1.0, 1.0, 1.0], order=0)\n",
    "hidx, widx, tidx = np.where(gt_im > 0.99)\n",
    "gt_im = gt_im[hidx.min():hidx.max(),\n",
    "                widx.min():widx.max(),\n",
    "                tidx.min():tidx.max()]\n",
    "gt_im = gt_im[None, None, ...]\n",
    "gt_im = np.repeat(gt_im, 3, axis=1)\n",
    "gt_im = torch.from_numpy(gt_im).to(device)\n",
    "\n",
    "### loading the initial pose of mesh \n",
    "mesh_whl = data['mesh_whl']"
   ]
  },
  {
   "cell_type": "code",
   "execution_count": 46,
   "id": "d216e647-339b-4e58-815c-223e1ecf90b5",
   "metadata": {
    "tags": []
   },
   "outputs": [
    {
     "data": {
      "text/plain": [
       "(512, 512, 512)"
      ]
     },
     "execution_count": 46,
     "metadata": {},
     "output_type": "execute_result"
    }
   ],
   "source": [
    "H, W, T"
   ]
  },
  {
   "cell_type": "code",
   "execution_count": 47,
   "id": "9042ee67-f22d-4f4b-a00d-0c7f39906cbd",
   "metadata": {
    "tags": []
   },
   "outputs": [],
   "source": [
    "# Generate coordinate grid\n",
    "coords, _ = dataio.partition_signal(utils.get_coords(H, W, T, dim=3), (H, W, T), args.downsample)\n",
    "coords = coords.cuda()\n",
    "\n",
    "# Convert input image to a tensor and reshape\n",
    "gt_raw = torch.tensor(im).reshape(H * W * T, 1)[None, ...].to(device)\n",
    "gt, gt_slices = dataio.partition_signal(torch.tensor(im).reshape(H * W * T, 1), (H, W, T), args.downsample)\n",
    "gt = gt.cuda()\n",
    "\n",
    "if 'lg' in args.inr_model or 'lc' in args.inr_model:\n",
    "    selected_indices = torch.where((gt.squeeze().abs().sum(dim=1) > 0))[0]\n",
    "    coords_selected = coords[selected_indices]\n",
    "    gt_selected = gt[selected_indices]\n",
    "    groups = gt_selected.shape[0]\n",
    "else:\n",
    "    selected_indices = torch.where((gt.abs().sum(dim=1) > 0))[0]\n",
    "    coords_selected = coords\n",
    "    gt_selected = gt"
   ]
  },
  {
   "cell_type": "markdown",
   "id": "53ab2563",
   "metadata": {},
   "source": [
    "## Defining Model"
   ]
  },
  {
   "cell_type": "markdown",
   "id": "36c1145d",
   "metadata": {
    "tags": []
   },
   "source": [
    "### Model Configureations"
   ]
  },
  {
   "cell_type": "code",
   "execution_count": 48,
   "id": "cac00936-e10d-4c53-840c-c2ea310aa56e",
   "metadata": {
    "tags": []
   },
   "outputs": [],
   "source": [
    "def count_parameters(model):\n",
    "    return sum(p.numel() for p in model.parameters() if p.requires_grad)"
   ]
  },
  {
   "cell_type": "code",
   "execution_count": 49,
   "id": "22d602b9",
   "metadata": {
    "tags": []
   },
   "outputs": [
    {
     "name": "stdout",
     "output_type": "stream",
     "text": [
      "Total Parameters: 199174\n",
      "Global Parameters: 19458\n",
      "Local Parameters: 179716\n"
     ]
    }
   ],
   "source": [
    "if args.inr_model == 'lg_siren':\n",
    "    model = INR(out_features=1, in_features=3, activation_type=\"sine\", mode=\"lg\", num_hidden_layers=3,\n",
    "                sidelength=512, hidden_features=groups * 17, groups=groups,\n",
    "                agg_type=\"concat_and_fc\", global_hidden_features=76).cuda()\n",
    "    print(\"Total Parameters:\", count_parameters(model.net.agg_func) + count_parameters(model.net.global_net) + count_parameters(model.net.net))\n",
    "    print(\"Global Parameters:\", count_parameters(model.net.agg_func) + count_parameters(model.net.global_net))\n",
    "    print(\"Local Parameters:\", count_parameters(model.net.net))\n",
    "elif args.inr_model == 'lc_siren':\n",
    "    model = INR(out_features=1, in_features=3, activation_type=\"sine\", mode=\"lc\", num_hidden_layers=3,\n",
    "                sidelength=512, hidden_features=groups * 18,\n",
    "                groups=groups).cuda()\n",
    "    count_parameters(model.net.net)\n",
    "    print(\"Total Parameters:\", count_parameters(model.net.net))\n",
    "else:\n",
    "    model = INR(out_features=1, in_features=3, activation_type=\"sine\", mode=\"mlp\", num_hidden_layers=3,\n",
    "                sidelength=512, hidden_features=256, groups=groups).cuda()\n",
    "    count_parameters(model.net.net)\n",
    "    print(\"Total Parameters:\", count_parameters(model.net.net))"
   ]
  },
  {
   "cell_type": "markdown",
   "id": "db268c3d",
   "metadata": {},
   "source": [
    "## Training Code"
   ]
  },
  {
   "cell_type": "code",
   "execution_count": 50,
   "id": "6f58b062",
   "metadata": {
    "tags": []
   },
   "outputs": [],
   "source": [
    "# Optimizer setup\n",
    "optim = torch.optim.Adam(lr=args.lr, params=model.parameters())\n",
    "scheduler = lr_scheduler.LambdaLR(optim, lambda x: args.scheduler_b ** min(x / args.niters, 1))\n",
    "\n",
    "# Initialize lists for IOU and best loss value as positive infinity\n",
    "iou_values = []\n",
    "best_iou = torch.tensor(float('inf'))\n",
    "\n",
    "# Check the args.maxpoints value\n",
    "args.maxpoints = int(args.maxpoints)\n",
    "\n",
    "maxpoints = int(math.ceil(min(H*W*T, args.maxpoints) / groups))"
   ]
  },
  {
   "cell_type": "markdown",
   "id": "ed6f4920-5283-49ec-99b6-5d1085dadcca",
   "metadata": {
    "tags": []
   },
   "source": [
    "### Training Loop"
   ]
  },
  {
   "cell_type": "code",
   "execution_count": 51,
   "id": "a452e7cd",
   "metadata": {
    "tags": []
   },
   "outputs": [
    {
     "data": {
      "application/vnd.jupyter.widget-view+json": {
       "model_id": "1511afe9824a41d982ccebbee7fead7b",
       "version_major": 2,
       "version_minor": 0
      },
      "text/plain": [
       "  0%|          | 0/20 [00:00<?, ?it/s]"
      ]
     },
     "metadata": {},
     "output_type": "display_data"
    },
    {
     "data": {
      "application/vnd.jupyter.widget-view+json": {
       "model_id": "a816f84481ee4376b2d2079f7a8a3707",
       "version_major": 2,
       "version_minor": 0
      },
      "text/plain": [
       "  0%|          | 0/1343 [00:00<?, ?it/s]"
      ]
     },
     "metadata": {},
     "output_type": "display_data"
    },
    {
     "data": {
      "application/vnd.jupyter.widget-view+json": {
       "model_id": "2acd74005f9045e5a66d93e015dd74b5",
       "version_major": 2,
       "version_minor": 0
      },
      "text/plain": [
       "  0%|          | 0/1343 [00:00<?, ?it/s]"
      ]
     },
     "metadata": {},
     "output_type": "display_data"
    },
    {
     "name": "stdout",
     "output_type": "stream",
     "text": [
      "Epoch: 1 | Total Loss: 0.00525 | IoU: 0.9779\n"
     ]
    },
    {
     "data": {
      "application/vnd.jupyter.widget-view+json": {
       "model_id": "5d0fbb1c19724446ac4b01474b5efb9e",
       "version_major": 2,
       "version_minor": 0
      },
      "text/plain": [
       "  0%|          | 0/1343 [00:00<?, ?it/s]"
      ]
     },
     "metadata": {},
     "output_type": "display_data"
    },
    {
     "name": "stdout",
     "output_type": "stream",
     "text": [
      "Epoch: 2 | Total Loss: 0.00434 | IoU: 0.9811\n"
     ]
    },
    {
     "data": {
      "application/vnd.jupyter.widget-view+json": {
       "model_id": "99871f9dc51e473ab7c563c4185076f6",
       "version_major": 2,
       "version_minor": 0
      },
      "text/plain": [
       "  0%|          | 0/1343 [00:00<?, ?it/s]"
      ]
     },
     "metadata": {},
     "output_type": "display_data"
    },
    {
     "name": "stdout",
     "output_type": "stream",
     "text": [
      "Epoch: 3 | Total Loss: 0.00386 | IoU: 0.9823\n"
     ]
    },
    {
     "data": {
      "application/vnd.jupyter.widget-view+json": {
       "model_id": "97c80f0f729346afba860b1dce3ff14b",
       "version_major": 2,
       "version_minor": 0
      },
      "text/plain": [
       "  0%|          | 0/1343 [00:00<?, ?it/s]"
      ]
     },
     "metadata": {},
     "output_type": "display_data"
    },
    {
     "name": "stdout",
     "output_type": "stream",
     "text": [
      "Epoch: 4 | Total Loss: 0.00353 | IoU: 0.9842\n"
     ]
    },
    {
     "data": {
      "application/vnd.jupyter.widget-view+json": {
       "model_id": "de7557c3e99a425e88ed3e5bf305218e",
       "version_major": 2,
       "version_minor": 0
      },
      "text/plain": [
       "  0%|          | 0/1343 [00:00<?, ?it/s]"
      ]
     },
     "metadata": {},
     "output_type": "display_data"
    },
    {
     "name": "stdout",
     "output_type": "stream",
     "text": [
      "Epoch: 5 | Total Loss: 0.00326 | IoU: 0.9848\n"
     ]
    },
    {
     "data": {
      "application/vnd.jupyter.widget-view+json": {
       "model_id": "bbd1e1f6feef436e96656752e420e5c0",
       "version_major": 2,
       "version_minor": 0
      },
      "text/plain": [
       "  0%|          | 0/1343 [00:00<?, ?it/s]"
      ]
     },
     "metadata": {},
     "output_type": "display_data"
    },
    {
     "name": "stdout",
     "output_type": "stream",
     "text": [
      "Epoch: 6 | Total Loss: 0.00306 | IoU: 0.9855\n"
     ]
    },
    {
     "data": {
      "application/vnd.jupyter.widget-view+json": {
       "model_id": "fcad3391338844d1846949a3efa41ed9",
       "version_major": 2,
       "version_minor": 0
      },
      "text/plain": [
       "  0%|          | 0/1343 [00:00<?, ?it/s]"
      ]
     },
     "metadata": {},
     "output_type": "display_data"
    },
    {
     "name": "stdout",
     "output_type": "stream",
     "text": [
      "Epoch: 7 | Total Loss: 0.00288 | IoU: 0.9863\n"
     ]
    },
    {
     "data": {
      "application/vnd.jupyter.widget-view+json": {
       "model_id": "0e41da33a56d4aa39a3b42e9572ad06b",
       "version_major": 2,
       "version_minor": 0
      },
      "text/plain": [
       "  0%|          | 0/1343 [00:00<?, ?it/s]"
      ]
     },
     "metadata": {},
     "output_type": "display_data"
    },
    {
     "name": "stdout",
     "output_type": "stream",
     "text": [
      "Epoch: 8 | Total Loss: 0.00272 | IoU: 0.9871\n"
     ]
    },
    {
     "data": {
      "application/vnd.jupyter.widget-view+json": {
       "model_id": "365c5fe4e4954ebc936f5d0b6615b1b8",
       "version_major": 2,
       "version_minor": 0
      },
      "text/plain": [
       "  0%|          | 0/1343 [00:00<?, ?it/s]"
      ]
     },
     "metadata": {},
     "output_type": "display_data"
    },
    {
     "name": "stdout",
     "output_type": "stream",
     "text": [
      "Epoch: 9 | Total Loss: 0.00258 | IoU: 0.9880\n"
     ]
    },
    {
     "data": {
      "application/vnd.jupyter.widget-view+json": {
       "model_id": "9ee82db8f7c4427d885a3915285b0a38",
       "version_major": 2,
       "version_minor": 0
      },
      "text/plain": [
       "  0%|          | 0/1343 [00:00<?, ?it/s]"
      ]
     },
     "metadata": {},
     "output_type": "display_data"
    },
    {
     "name": "stdout",
     "output_type": "stream",
     "text": [
      "Epoch: 10 | Total Loss: 0.00245 | IoU: 0.9883\n"
     ]
    },
    {
     "data": {
      "application/vnd.jupyter.widget-view+json": {
       "model_id": "288b0dbe17f14774801e80eea7d7daf2",
       "version_major": 2,
       "version_minor": 0
      },
      "text/plain": [
       "  0%|          | 0/1343 [00:00<?, ?it/s]"
      ]
     },
     "metadata": {},
     "output_type": "display_data"
    },
    {
     "name": "stdout",
     "output_type": "stream",
     "text": [
      "Epoch: 11 | Total Loss: 0.00233 | IoU: 0.9890\n"
     ]
    },
    {
     "data": {
      "application/vnd.jupyter.widget-view+json": {
       "model_id": "b10ab570d5a54468ae3c963b6b78ccba",
       "version_major": 2,
       "version_minor": 0
      },
      "text/plain": [
       "  0%|          | 0/1343 [00:00<?, ?it/s]"
      ]
     },
     "metadata": {},
     "output_type": "display_data"
    },
    {
     "name": "stdout",
     "output_type": "stream",
     "text": [
      "Epoch: 12 | Total Loss: 0.00224 | IoU: 0.9894\n"
     ]
    },
    {
     "data": {
      "application/vnd.jupyter.widget-view+json": {
       "model_id": "f96905fb995c4c9a83b492587abbd141",
       "version_major": 2,
       "version_minor": 0
      },
      "text/plain": [
       "  0%|          | 0/1343 [00:00<?, ?it/s]"
      ]
     },
     "metadata": {},
     "output_type": "display_data"
    },
    {
     "name": "stdout",
     "output_type": "stream",
     "text": [
      "Epoch: 13 | Total Loss: 0.00214 | IoU: 0.9902\n"
     ]
    },
    {
     "data": {
      "application/vnd.jupyter.widget-view+json": {
       "model_id": "83c8530831434a2abcd5489fb4955403",
       "version_major": 2,
       "version_minor": 0
      },
      "text/plain": [
       "  0%|          | 0/1343 [00:00<?, ?it/s]"
      ]
     },
     "metadata": {},
     "output_type": "display_data"
    },
    {
     "name": "stdout",
     "output_type": "stream",
     "text": [
      "Epoch: 14 | Total Loss: 0.00205 | IoU: 0.9904\n"
     ]
    },
    {
     "data": {
      "application/vnd.jupyter.widget-view+json": {
       "model_id": "cfab6379b6604d0a9559346e92c47e1a",
       "version_major": 2,
       "version_minor": 0
      },
      "text/plain": [
       "  0%|          | 0/1343 [00:00<?, ?it/s]"
      ]
     },
     "metadata": {},
     "output_type": "display_data"
    },
    {
     "name": "stdout",
     "output_type": "stream",
     "text": [
      "Epoch: 15 | Total Loss: 0.00197 | IoU: 0.9908\n"
     ]
    },
    {
     "data": {
      "application/vnd.jupyter.widget-view+json": {
       "model_id": "54f2c2e228724e629ae00441105e502e",
       "version_major": 2,
       "version_minor": 0
      },
      "text/plain": [
       "  0%|          | 0/1343 [00:00<?, ?it/s]"
      ]
     },
     "metadata": {},
     "output_type": "display_data"
    },
    {
     "name": "stdout",
     "output_type": "stream",
     "text": [
      "Epoch: 16 | Total Loss: 0.00190 | IoU: 0.9910\n"
     ]
    },
    {
     "data": {
      "application/vnd.jupyter.widget-view+json": {
       "model_id": "bcc8105a36c5485e94c0bbda3dd30e66",
       "version_major": 2,
       "version_minor": 0
      },
      "text/plain": [
       "  0%|          | 0/1343 [00:00<?, ?it/s]"
      ]
     },
     "metadata": {},
     "output_type": "display_data"
    },
    {
     "name": "stdout",
     "output_type": "stream",
     "text": [
      "Epoch: 17 | Total Loss: 0.00183 | IoU: 0.9916\n"
     ]
    },
    {
     "data": {
      "application/vnd.jupyter.widget-view+json": {
       "model_id": "923ef83ee84f4348b96c348572c1eb4c",
       "version_major": 2,
       "version_minor": 0
      },
      "text/plain": [
       "  0%|          | 0/1343 [00:00<?, ?it/s]"
      ]
     },
     "metadata": {},
     "output_type": "display_data"
    },
    {
     "name": "stdout",
     "output_type": "stream",
     "text": [
      "Epoch: 18 | Total Loss: 0.00177 | IoU: 0.9920\n"
     ]
    },
    {
     "data": {
      "application/vnd.jupyter.widget-view+json": {
       "model_id": "3d23be3089c14df6ad1e76ebbd364a12",
       "version_major": 2,
       "version_minor": 0
      },
      "text/plain": [
       "  0%|          | 0/1343 [00:00<?, ?it/s]"
      ]
     },
     "metadata": {},
     "output_type": "display_data"
    },
    {
     "name": "stdout",
     "output_type": "stream",
     "text": [
      "Epoch: 19 | Total Loss: 0.00170 | IoU: 0.9922\n",
      "--------------------\n",
      "Max IoU: 0.9921911358833313\n",
      "--------------------\n"
     ]
    }
   ],
   "source": [
    "for step in tqdm(range(args.niters)):\n",
    "    loss_values = []\n",
    "    for b_idx in tqdm(range(0, H*W*T, args.maxpoints)):\n",
    "        coord_idx = torch.randint(0, coords_selected.shape[1], (groups, maxpoints)).cuda()\n",
    "        b_data = torch.gather(gt_selected, dim=1, index=coord_idx.unsqueeze(-1).expand(-1, -1, gt_selected.shape[-1]))\n",
    "        b_coords = torch.gather(coords_selected, dim=1, index=coord_idx.unsqueeze(-1).expand(-1, -1, coords_selected.shape[-1]))\n",
    "        \n",
    "        # Calculate model output\n",
    "        model_output = model({'coords': b_coords.unsqueeze(0)})['model_out']\n",
    "        \n",
    "        # Calculate the output loss\n",
    "        output_loss = ((model_output - b_data)**2).mean()\n",
    "        \n",
    "        loss = output_loss\n",
    "        loss_values.append(loss.item())\n",
    "\n",
    "        # Perform backpropagation and update model parameters\n",
    "        optim.zero_grad()\n",
    "        loss.backward()\n",
    "        optim.step()\n",
    "    \n",
    "    # Adjust learning rate using a scheduler if applicable\n",
    "    if args.using_schedular:\n",
    "        if args.inr_model == 'incode' and 30 < step:\n",
    "            scheduler.step()\n",
    "        else:\n",
    "            scheduler.step()\n",
    "    \n",
    "    if step >= 1:\n",
    "        # Evaluation step\n",
    "        with torch.no_grad():\n",
    "            rec = torch.zeros_like(gt_selected)\n",
    "            eval_step_size = 10000\n",
    "            for i in range(0, coords_selected.shape[1], eval_step_size):\n",
    "                b_coords = coords_selected[:, i:i+eval_step_size, :]\n",
    "                model_output = model({'coords': b_coords.unsqueeze(0)})['model_out']\n",
    "                rec[:, i:i+eval_step_size,:] = model_output\n",
    "            \n",
    "            rec_full = torch.zeros_like(gt)\n",
    "            rec_full[selected_indices] = rec\n",
    "            rec_full = dataio.lin2vid(rec_full, (H, W, T, 1), gt_slices).reshape(1, H * W * T, 1)\n",
    "\n",
    "        # Calculate IOU\n",
    "        with torch.no_grad():\n",
    "            iou = volutils.get_IoU(rec_full, gt_raw, args.mcubes_thres)\n",
    "            iou_values.append(iou.item())\n",
    "\n",
    "        # Prepare reconstructed shape for visualization\n",
    "        imrec = rec_full[0, ...].reshape(H, W, T).detach().cpu().numpy()\n",
    "\n",
    "        # Check if the current iteration's loss is the best so far\n",
    "        if (iou < best_iou) or (step == 0):\n",
    "            best_iou = iou\n",
    "            best_img = copy.deepcopy(imrec)\n",
    "\n",
    "        # Display intermediate results at specified intervals\n",
    "        if step % args.steps_til_summary == 0:\n",
    "            print(\"Epoch: {} | Total Loss: {:.5f} | IoU: {:.4f}\".format(step, \n",
    "                                                                         np.mean(loss_values),\n",
    "                                                                         iou.item()))\n",
    "\n",
    "        \n",
    "# Print maximum PSNR achieved during training\n",
    "print('--------------------')\n",
    "print('Max IoU:', max(iou_values))\n",
    "print('--------------------')\n",
    "\n",
    "\n",
    "# Marching and saving volumes\n",
    "expname = os.path.splitext(os.path.basename(args.input))[0]\n",
    "os.makedirs(args.output + args.inr_model, exist_ok=True)\n",
    "savename = f'{args.output}/{args.inr_model}/{expname}.dae'\n",
    "volutils.march_and_save(best_img, mesh_whl, args.mcubes_thres, savename, True)"
   ]
  },
  {
   "cell_type": "code",
   "execution_count": 52,
   "id": "0942bcf9",
   "metadata": {
    "tags": []
   },
   "outputs": [],
   "source": [
    "# Marching and saving volumes\n",
    "expname = os.path.splitext(os.path.basename(args.input))[0]\n",
    "os.makedirs(args.output + args.inr_model, exist_ok=True)\n",
    "savename = f'{args.output}/{args.inr_model}/{expname}_{args.inr_model}_{\"_\".join([str(d) for d in args.downsample])}_{max(iou_values):.5f}.dae'\n",
    "volutils.march_and_save(best_img, mesh_whl, args.mcubes_thres, savename, True)"
   ]
  },
  {
   "cell_type": "markdown",
   "id": "c86e4b9e",
   "metadata": {},
   "source": [
    "# Convergance Rate"
   ]
  },
  {
   "cell_type": "code",
   "execution_count": 53,
   "id": "b1dc2a55",
   "metadata": {
    "tags": []
   },
   "outputs": [
    {
     "data": {
      "image/png": "[encoded data removed]",
      "text/plain": [
       "<Figure size 640x480 with 1 Axes>"
      ]
     },
     "metadata": {},
     "output_type": "display_data"
    }
   ],
   "source": [
    "font = {'font': 'Times New Roman', 'size': 12}\n",
    "\n",
    "plt.figure()\n",
    "axfont = {'family' : 'Times New Roman', 'weight' : 'regular', 'size'   : 10}\n",
    "plt.rc('font', **axfont)\n",
    "\n",
    "plt.plot(np.arange(len(iou_values[:-1])), iou_values[:-1], label = f\"{(args.inr_model).upper()}\")\n",
    "plt.xlabel('# Epochs', fontdict=font)\n",
    "plt.ylabel('IoU', fontdict=font)\n",
    "plt.title('Shape Representation', fontdict={'family': 'Times New Roman', 'size': 12, 'weight': 'bold'})\n",
    "plt.legend()\n",
    "plt.grid(True, color='lightgray')\n",
    "\n",
    "plt.show()"
   ]
  }
 ],
 "metadata": {
  "kernelspec": {
   "display_name": "Python 3 (ipykernel)",
   "language": "python",
   "name": "python3"
  },
  "language_info": {
   "codemirror_mode": {
    "name": "ipython",
    "version": 3
   },
   "file_extension": ".py",
   "mimetype": "text/x-python",
   "name": "python",
   "nbconvert_exporter": "python",
   "pygments_lexer": "ipython3",
   "version": "3.10.14"
  }
 },
 "nbformat": 4,
 "nbformat_minor": 5
}
